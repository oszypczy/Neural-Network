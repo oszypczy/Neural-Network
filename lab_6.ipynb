{
 "cells": [
  {
   "cell_type": "code",
   "execution_count": 1,
   "metadata": {},
   "outputs": [],
   "source": [
    "import pandas as pd\n",
    "import glob\n",
    "from sklearn.preprocessing import MinMaxScaler\n",
    "from sklearn.model_selection import train_test_split as tts\n",
    "import numpy as np"
   ]
  },
  {
   "cell_type": "code",
   "execution_count": 2,
   "metadata": {},
   "outputs": [],
   "source": [
    "def prepare_data(path : str) -> tuple:\n",
    "    files = glob.glob(f'{path}/data-*')\n",
    "    scaler = MinMaxScaler()\n",
    "    aggregated_data = pd.DataFrame()\n",
    "\n",
    "    for file in files:\n",
    "        current_data = pd.read_csv(file, delimiter='\\t', header=None, names=['Date', 'Time', 'Type', 'Insulin'])\n",
    "        aggregated_data = pd.concat([aggregated_data, current_data])\n",
    "\n",
    "    aggregated_data = aggregated_data[['Date', 'Time', 'Insulin', 'Type']]\n",
    "\n",
    "    columns_to_normalize = ['Insulin', 'Time', 'Date']\n",
    "    aggregated_data['Insulin'] = aggregated_data['Insulin'].replace([\"0Hi\", \"0Lo\", \"0''\"], 0.0)\n",
    "    aggregated_data['Time'] = pd.to_datetime(aggregated_data['Time'], format='%H:%M', errors='coerce').dt.time\n",
    "    aggregated_data['Time'] = aggregated_data['Time'].apply(lambda x: x.hour * 60 + x.minute)\n",
    "    aggregated_data['Date'] = pd.to_datetime(aggregated_data['Date'], format='%m-%d-%Y', errors='coerce')\n",
    "    aggregated_data['Date'] = aggregated_data['Date'].dt.dayofyear\n",
    "    aggregated_data = aggregated_data.dropna()\n",
    "\n",
    "    aggregated_data[columns_to_normalize] = scaler.fit_transform(aggregated_data[columns_to_normalize])\n",
    "\n",
    "    aggregated_data.to_csv('normalized_data.csv', index=False)\n",
    "\n",
    "    features = aggregated_data[['Date', 'Time', 'Insulin']].to_numpy()\n",
    "    labels = aggregated_data['Type'].to_numpy()\n",
    "\n",
    "    features_train, features_test, labels_train, labels_test = tts(features, labels, test_size=0.2, random_state=42)\n",
    "\n",
    "    return (features_train, features_test, labels_train, labels_test)\n"
   ]
  },
  {
   "cell_type": "code",
   "execution_count": 3,
   "metadata": {},
   "outputs": [],
   "source": [
    "class NeuralNetwork:\n",
    "    def __init__(self, input_size, hidden_size, output_size):\n",
    "        self.weights_input_hidden = np.random.rand(input_size, hidden_size)\n",
    "        self.bias_hidden = np.zeros((1, hidden_size))\n",
    "        self.weights_hidden_output = np.random.rand(hidden_size, output_size)\n",
    "        self.bias_output = np.zeros((1, output_size))\n",
    "\n",
    "    def sigmoid(self, x):\n",
    "        return 1 / (1 + np.exp(-x))\n",
    "\n",
    "    def sigmoid_derivative(self, x):\n",
    "        return x * (1 - x)\n",
    "\n",
    "    def forward(self, X):\n",
    "        self.hidden_input = np.dot(X, self.weights_input_hidden) + self.bias_hidden\n",
    "        self.hidden_output = self.sigmoid(self.hidden_input)\n",
    "\n",
    "        self.final_input = np.dot(self.hidden_output, self.weights_hidden_output) + self.bias_output\n",
    "        self.final_output = self.sigmoid(self.final_input)\n",
    "\n",
    "        return self.final_output\n",
    "\n",
    "    def backward(self, X, y, output):\n",
    "        error = y - output\n",
    "        output_delta = error * self.sigmoid_derivative(output)\n",
    "\n",
    "        error_hidden = output_delta.dot(self.weights_hidden_output.T)\n",
    "        hidden_delta = error_hidden * self.sigmoid_derivative(self.hidden_output)\n",
    "\n",
    "        self.weights_hidden_output += self.hidden_output.T.dot(output_delta)\n",
    "        self.bias_output += np.sum(output_delta, axis=0, keepdims=True)\n",
    "\n",
    "        self.weights_input_hidden += X.T.dot(hidden_delta)\n",
    "        self.bias_hidden += np.sum(hidden_delta, axis=0, keepdims=True)\n",
    "\n",
    "    def train(self, X, y, epochs):\n",
    "        for _ in range(epochs):\n",
    "            output = self.forward(X)\n",
    "            self.backward(X, y, output)\n"
   ]
  },
  {
   "cell_type": "code",
   "execution_count": null,
   "metadata": {},
   "outputs": [],
   "source": [
    "features_train, features_test, labels_train, labels_test = prepare_data('/home/oliwier/WSI_lab/lab_6/Diabetes-Data')\n",
    "\n",
    "input_size = 3\n",
    "hidden_size = 4\n",
    "output_size = 1\n",
    "\n",
    "# Initialize the neural network\n",
    "nn = NeuralNetwork(input_size, hidden_size, output_size)\n",
    "\n",
    "# Train the neural network\n",
    "epochs = 10000\n",
    "nn.train(features_train, labels_train, epochs)\n",
    "\n",
    "# Test the neural network\n",
    "predictions = nn.forward(features_test)"
   ]
  }
 ],
 "metadata": {
  "kernelspec": {
   "display_name": "Python 3",
   "language": "python",
   "name": "python3"
  },
  "language_info": {
   "codemirror_mode": {
    "name": "ipython",
    "version": 3
   },
   "file_extension": ".py",
   "mimetype": "text/x-python",
   "name": "python",
   "nbconvert_exporter": "python",
   "pygments_lexer": "ipython3",
   "version": "3.8.10"
  }
 },
 "nbformat": 4,
 "nbformat_minor": 2
}
