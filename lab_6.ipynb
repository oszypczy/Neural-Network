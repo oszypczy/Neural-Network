{
 "cells": [
  {
   "cell_type": "code",
   "execution_count": 6,
   "metadata": {},
   "outputs": [],
   "source": [
    "import pandas as pd\n",
    "import glob\n",
    "from sklearn.preprocessing import MinMaxScaler"
   ]
  },
  {
   "cell_type": "code",
   "execution_count": 22,
   "metadata": {},
   "outputs": [],
   "source": [
    "folder_path = '/home/oliwier/WSI_lab/lab_6/Diabetes-Data'\n",
    "files = glob.glob(f'{folder_path}/data-*')\n",
    "scaler = MinMaxScaler()\n",
    "aggregated_data = pd.DataFrame()\n",
    "\n",
    "for file in files:\n",
    "    current_data = pd.read_csv(file, delimiter='\\t', header=None, names=['Date', 'Time', 'Type', 'Insulin'])\n",
    "    aggregated_data = pd.concat([aggregated_data, current_data])\n",
    "\n",
    "aggregated_data = aggregated_data[['Date', 'Time', 'Insulin', 'Type']]\n",
    "\n",
    "columns_to_normalize = ['Insulin', 'Time', 'Date']\n",
    "aggregated_data['Insulin'] = aggregated_data['Insulin'].replace([\"0Hi\", \"0Lo\", \"0''\"], 0.0)\n",
    "aggregated_data['Time'] = pd.to_datetime(aggregated_data['Time'], format='%H:%M', errors='coerce').dt.time\n",
    "aggregated_data['Time'] = aggregated_data['Time'].apply(lambda x: x.hour * 60 + x.minute)\n",
    "aggregated_data['Date'] = pd.to_datetime(aggregated_data['Date'], format='%m-%d-%Y', errors='coerce')\n",
    "aggregated_data['Date'] = aggregated_data['Date'].dt.dayofyear\n",
    "aggregated_data = aggregated_data.dropna()\n",
    "\n",
    "aggregated_data[columns_to_normalize] = scaler.fit_transform(aggregated_data[columns_to_normalize])\n",
    "\n",
    "aggregated_data.to_csv('normalized_data.csv', index=False)"
   ]
  }
 ],
 "metadata": {
  "kernelspec": {
   "display_name": "Python 3",
   "language": "python",
   "name": "python3"
  },
  "language_info": {
   "codemirror_mode": {
    "name": "ipython",
    "version": 3
   },
   "file_extension": ".py",
   "mimetype": "text/x-python",
   "name": "python",
   "nbconvert_exporter": "python",
   "pygments_lexer": "ipython3",
   "version": "3.8.10"
  }
 },
 "nbformat": 4,
 "nbformat_minor": 2
}
