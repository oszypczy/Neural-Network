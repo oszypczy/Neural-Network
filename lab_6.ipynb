{
 "cells": [
  {
   "cell_type": "markdown",
   "metadata": {},
   "source": [
    "# WSI 6\n",
    "\n",
    "Artur Kempiński\n",
    "\n",
    "Oliwier Szypczyn"
   ]
  },
  {
   "cell_type": "code",
   "execution_count": 15,
   "metadata": {},
   "outputs": [],
   "source": [
    "import pandas as pd\n",
    "import glob\n",
    "from sklearn.preprocessing import MinMaxScaler\n",
    "from sklearn.model_selection import train_test_split as tts\n",
    "import numpy as np\n",
    "from sklearn.metrics import precision_score, recall_score, roc_curve, accuracy_score\n",
    "from matplotlib import pyplot as plt\n",
    "import random"
   ]
  },
  {
   "cell_type": "markdown",
   "metadata": {},
   "source": [
    "# Przygotowywanie i formatowanie danych"
   ]
  },
  {
   "cell_type": "code",
   "execution_count": 16,
   "metadata": {},
   "outputs": [],
   "source": [
    "def prepare_data(path : str, random_state=random.randint(1, 10000)) -> tuple:\n",
    "    files = glob.glob(f'{path}/data-*')\n",
    "    scaler = MinMaxScaler()\n",
    "    aggregated_data = pd.DataFrame()\n",
    "\n",
    "    for file in files:\n",
    "        current_data = pd.read_csv(file, delimiter='\\t', header=None, names=['Date', 'Time', 'Type', 'Insulin'])\n",
    "        aggregated_data = pd.concat([aggregated_data, current_data])\n",
    "\n",
    "    aggregated_data = aggregated_data[['Date', 'Time', 'Insulin', 'Type']]\n",
    "\n",
    "    columns_to_normalize = ['Insulin', 'Time', 'Date']\n",
    "    aggregated_data['Insulin'] = aggregated_data['Insulin'].replace([\"0Hi\", \"0Lo\", \"0''\"], 0.0)\n",
    "    aggregated_data['Time'] = pd.to_datetime(aggregated_data['Time'], format='%H:%M', errors='coerce').dt.time\n",
    "    aggregated_data['Time'] = aggregated_data['Time'].apply(lambda x: x.hour * 60 + x.minute)\n",
    "    aggregated_data['Date'] = pd.to_datetime(aggregated_data['Date'], format='%m-%d-%Y', errors='coerce')\n",
    "    aggregated_data['Date'] = aggregated_data['Date'].dt.dayofyear\n",
    "    aggregated_data = aggregated_data.dropna()\n",
    "\n",
    "    aggregated_data[columns_to_normalize] = scaler.fit_transform(aggregated_data[columns_to_normalize])\n",
    "\n",
    "    aggregated_data = pd.get_dummies(aggregated_data, columns=['Type'], dtype=int)\n",
    "\n",
    "    aggregated_data.to_csv('normalized_data.csv', index=False)\n",
    "\n",
    "    features = aggregated_data[['Date', 'Time', 'Insulin']].to_numpy()\n",
    "    headers = aggregated_data.columns.values.tolist()\n",
    "    labels = aggregated_data[[col for col in headers if col.startswith('Type')]].to_numpy()\n",
    "\n",
    "    features_train, features_test, labels_train, labels_test = tts(features, labels, test_size=0.2, random_state=random_state)\n",
    "\n",
    "    result = []\n",
    "    for dataset in (features_train, features_test, labels_train, labels_test):\n",
    "        temp = []\n",
    "        for row in dataset:\n",
    "            temp.append([row])\n",
    "        result.append(np.array(temp))\n",
    "\n",
    "    return tuple(result)"
   ]
  },
  {
   "cell_type": "markdown",
   "metadata": {},
   "source": [
    "# Implementacja"
   ]
  },
  {
   "cell_type": "code",
   "execution_count": 17,
   "metadata": {},
   "outputs": [],
   "source": [
    "class Network:\n",
    "    def __init__(self):\n",
    "        self.layers = []\n",
    "        self.loss = self._mse\n",
    "        self.loss_prime = self._mse_prime\n",
    "\n",
    "    def add(self, layer):\n",
    "        self.layers.append(layer)\n",
    "\n",
    "    def predict(self, input_data):\n",
    "        samples = len(input_data)\n",
    "        result = []\n",
    "\n",
    "        for i in range(samples):\n",
    "            output = self._propagate_layers_forward(input_data[i])\n",
    "            result.append(output)\n",
    "\n",
    "        return result\n",
    "\n",
    "    def fit(self, x_train, y_train, epochs, learning_rate, draw_plot=False, print_epoch=False):\n",
    "        samples = len(x_train)\n",
    "        data = []\n",
    "        for i in range(epochs):\n",
    "            err = 0\n",
    "            for j in range(samples):\n",
    "                output = self._propagate_layers_forward(x_train[j])\n",
    "\n",
    "                err += self.loss(y_train[j], output)\n",
    "\n",
    "                error = self.loss_prime(y_train[j], output)\n",
    "                self._propagate_layers_backward(error, learning_rate)\n",
    "\n",
    "            err /= samples\n",
    "            data.append(err)\n",
    "\n",
    "            if print_epoch:\n",
    "                print(f'epoch {i+1}/{epochs}\\terror={err}')\n",
    "\n",
    "        if draw_plot:\n",
    "            plt.plot(data)\n",
    "            plt.show()\n",
    "\n",
    "    def _propagate_layers_forward(self, input_data):\n",
    "        output = input_data\n",
    "        for layer in self.layers:\n",
    "            output = layer.forward_propagation(output)\n",
    "        return output\n",
    "\n",
    "    def _propagate_layers_backward(self, error, learning_rate):\n",
    "        for layer in reversed(self.layers):\n",
    "            error = layer.backward_propagation(error, learning_rate)\n",
    "\n",
    "    def _mse(self, y_true, y_pred):\n",
    "        return np.mean(np.power(y_true - y_pred, 2))\n",
    "\n",
    "    def _mse_prime(self, y_true, y_pred):\n",
    "        return 2 * (y_pred - y_true) / np.size(y_true)\n"
   ]
  },
  {
   "cell_type": "code",
   "execution_count": 18,
   "metadata": {},
   "outputs": [],
   "source": [
    "class Layer:\n",
    "    def __init__(self, input_size, output_size, activation_f_type = 'sigmoid'):\n",
    "        self.weights = np.random.uniform(low=-1/np.sqrt(input_size), high=1/np.sqrt(input_size), size=(input_size, output_size))\n",
    "        self.bias = np.random.rand(1, output_size) - 0.5\n",
    "        self.activation, self.activation_prime = self._get_activation_f(activation_f_type)\n",
    "\n",
    "    def forward_propagation(self, input_data):\n",
    "        self.input = input_data\n",
    "        self.output = np.dot(self.input, self.weights) + self.bias\n",
    "        return self.activation(self.output)\n",
    "\n",
    "    def backward_propagation(self, output_error, learning_rate):\n",
    "        input_error = np.dot(output_error, self.weights.T)\n",
    "        weights_error = np.dot(self.input.T, output_error)\n",
    "\n",
    "        self.weights -= learning_rate * weights_error\n",
    "        self.bias -= learning_rate * output_error\n",
    "\n",
    "        return self.activation_prime(self.input) * input_error\n",
    "\n",
    "    def _get_activation_f(self, activation_f_type):\n",
    "        if activation_f_type == 'sigmoid':\n",
    "            return self._sigmoid, self._sigmoid_prime\n",
    "        elif activation_f_type == 'tanh':\n",
    "            return self._tanh, self._tanh_prime\n",
    "        elif activation_f_type == 'relu':\n",
    "            return self._relu, self._relu_prime\n",
    "        else:\n",
    "            raise Exception('Activation function not supported')\n",
    "\n",
    "    def _relu(self, x):\n",
    "        return np.maximum(0, x)\n",
    "\n",
    "    def _relu_prime(self, x):\n",
    "        return np.where(x > 0, 1, 0)\n",
    "\n",
    "    def _sigmoid(self, x):\n",
    "        return 1 / (1 + np.exp(-x))\n",
    "\n",
    "    def _sigmoid_prime(self, x):\n",
    "        return x * (1 - x)\n",
    "\n",
    "    def _tanh(self, x):\n",
    "        return np.tanh(x)\n",
    "\n",
    "    def _tanh_prime(self, x):\n",
    "        return 1 - x * x"
   ]
  },
  {
   "cell_type": "code",
   "execution_count": 19,
   "metadata": {},
   "outputs": [],
   "source": [
    "def parse_result(result):\n",
    "    output = []\n",
    "    for row in result:\n",
    "        output.append(np.argmax(row))\n",
    "    return np.array(output)"
   ]
  },
  {
   "cell_type": "markdown",
   "metadata": {},
   "source": [
    "# Analiza"
   ]
  },
  {
   "cell_type": "code",
   "execution_count": 20,
   "metadata": {},
   "outputs": [],
   "source": [
    "x_train, x_test, y_train, y_test = prepare_data('Diabetes-Data')"
   ]
  },
  {
   "cell_type": "markdown",
   "metadata": {},
   "source": [
    "Pierwszy wykres służy odnalezieniu dobrej liczby epok do dalszego trenowania.\n",
    "\n",
    "Zdecydowaliśmy, że 200 epok będzie wystarczające aby osiągnać dobre wyniki w rozsądnym czasie"
   ]
  },
  {
   "cell_type": "code",
   "execution_count": 21,
   "metadata": {},
   "outputs": [
    {
     "data": {
      "image/png": "[encoded data removed]",
      "text/plain": [
       "<Figure size 640x480 with 1 Axes>"
      ]
     },
     "metadata": {},
     "output_type": "display_data"
    },
    {
     "name": "stdout",
     "output_type": "stream",
     "text": [
      "0.8031105793881388\n"
     ]
    }
   ],
   "source": [
    "net = Network()\n",
    "net.add(Layer(3, 10, 'sigmoid'))\n",
    "net.add(Layer(10, 15, 'sigmoid'))\n",
    "net.add(Layer(15, 10, 'sigmoid'))\n",
    "net.add(Layer(10, 23, 'sigmoid'))\n",
    "net.fit(x_train, y_train, epochs=800, learning_rate=0.2, draw_plot=True)\n",
    "prediction = net.predict(x_test)\n",
    "print('Accuracy: ', accuracy_score(parse_result(y_test), parse_result(prediction)))"
   ]
  },
  {
   "cell_type": "markdown",
   "metadata": {},
   "source": [
    "Poniżej przeanalizowaliśmy kilka wybranych struktur sieci, do dalszych testów wybraliśmy wariant drugi"
   ]
  },
  {
   "cell_type": "code",
   "execution_count": 23,
   "metadata": {},
   "outputs": [
    {
     "name": "stdout",
     "output_type": "stream",
     "text": [
      "0.78260126474107\n"
     ]
    }
   ],
   "source": [
    "net = Network()\n",
    "net.add(Layer(3, 10, 'sigmoid'))\n",
    "net.add(Layer(10, 15, 'sigmoid'))\n",
    "net.add(Layer(15, 10, 'sigmoid'))\n",
    "net.add(Layer(10, 23, 'sigmoid'))\n",
    "net.fit(x_train, y_train, epochs=200, learning_rate=0.2)\n",
    "prediction = net.predict(x_test)\n",
    "print('Accuracy: ', accuracy_score(parse_result(y_test), parse_result(prediction)))"
   ]
  },
  {
   "cell_type": "code",
   "execution_count": 24,
   "metadata": {},
   "outputs": [
    {
     "name": "stdout",
     "output_type": "stream",
     "text": [
      "0.794735942573919\n"
     ]
    }
   ],
   "source": [
    "net = Network()\n",
    "net.add(Layer(3, 7, 'sigmoid'))\n",
    "net.add(Layer(7, 15, 'sigmoid'))\n",
    "net.add(Layer(15, 23, 'sigmoid'))\n",
    "net.fit(x_train, y_train, epochs=200, learning_rate=0.2)\n",
    "prediction = net.predict(x_test)\n",
    "print('Accuracy: ', accuracy_score(parse_result(y_test), parse_result(prediction)))"
   ]
  },
  {
   "cell_type": "code",
   "execution_count": 26,
   "metadata": {},
   "outputs": [
    {
     "name": "stdout",
     "output_type": "stream",
     "text": [
      "0.7680738335327294\n"
     ]
    }
   ],
   "source": [
    "net = Network()\n",
    "net.add(Layer(3, 10, 'sigmoid'))\n",
    "net.add(Layer(10, 23, 'sigmoid'))\n",
    "net.fit(x_train, y_train, epochs=200, learning_rate=0.2)\n",
    "prediction = net.predict(x_test)\n",
    "print('Accuracy: ', accuracy_score(parse_result(y_test), parse_result(prediction)))"
   ]
  },
  {
   "cell_type": "markdown",
   "metadata": {},
   "source": [
    "Z wykorzystaniem poprzednio wybranej struktury sieci przetestowaliśmy róźne funkcje aktywacji"
   ]
  },
  {
   "cell_type": "code",
   "execution_count": 27,
   "metadata": {},
   "outputs": [
    {
     "name": "stdout",
     "output_type": "stream",
     "text": [
      "0.8017432917450008\n"
     ]
    }
   ],
   "source": [
    "net = Network()\n",
    "net.add(Layer(3, 7, 'sigmoid'))\n",
    "net.add(Layer(7, 15, 'sigmoid'))\n",
    "net.add(Layer(15, 23, 'sigmoid'))\n",
    "net.fit(x_train, y_train, epochs=200, learning_rate=0.2)\n",
    "prediction = net.predict(x_test)\n",
    "print('Accuracy: ', accuracy_score(parse_result(y_test), parse_result(prediction)))"
   ]
  },
  {
   "cell_type": "code",
   "execution_count": 28,
   "metadata": {},
   "outputs": [
    {
     "name": "stdout",
     "output_type": "stream",
     "text": [
      "Accuracy:  0.7795248675440096\n"
     ]
    }
   ],
   "source": [
    "net = Network()\n",
    "net.add(Layer(3, 7, 'relu'))\n",
    "net.add(Layer(7, 15, 'relu'))\n",
    "net.add(Layer(15, 23, 'relu'))\n",
    "net.fit(x_train, y_train, epochs=200, learning_rate=0.2)\n",
    "prediction = net.predict(x_test)\n",
    "print('Accuracy: ', accuracy_score(parse_result(y_test), parse_result(prediction)))"
   ]
  },
  {
   "cell_type": "code",
   "execution_count": 29,
   "metadata": {},
   "outputs": [
    {
     "name": "stdout",
     "output_type": "stream",
     "text": [
      "Accuracy:  0.775593915569988\n"
     ]
    }
   ],
   "source": [
    "net = Network()\n",
    "net.add(Layer(3, 7, 'tanh'))\n",
    "net.add(Layer(7, 15, 'tanh'))\n",
    "net.add(Layer(15, 23, 'tanh'))\n",
    "net.fit(x_train, y_train, epochs=200, learning_rate=0.2)\n",
    "prediction = net.predict(x_test)\n",
    "print('Accuracy: ', accuracy_score(parse_result(y_test), parse_result(prediction)))"
   ]
  }
 ],
 "metadata": {
  "kernelspec": {
   "display_name": "Python 3",
   "language": "python",
   "name": "python3"
  },
  "language_info": {
   "codemirror_mode": {
    "name": "ipython",
    "version": 3
   },
   "file_extension": ".py",
   "mimetype": "text/x-python",
   "name": "python",
   "nbconvert_exporter": "python",
   "pygments_lexer": "ipython3",
   "version": "3.8.10"
  }
 },
 "nbformat": 4,
 "nbformat_minor": 2
}
